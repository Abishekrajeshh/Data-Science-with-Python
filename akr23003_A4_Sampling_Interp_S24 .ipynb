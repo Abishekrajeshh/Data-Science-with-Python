{
  "nbformat": 4,
  "nbformat_minor": 0,
  "metadata": {
    "colab": {
      "provenance": [],
      "toc_visible": true
    },
    "kernelspec": {
      "name": "python3",
      "display_name": "Python 3"
    },
    "language_info": {
      "name": "python"
    }
  },
  "cells": [
    {
      "cell_type": "markdown",
      "source": [
        "# Assignment 4: Sampling and Model Interpretability\n",
        "-----------------------------------\n",
        "\n",
        "**Dr. Dave Wanik - OPIM 5512: Data Science Using Python - University of Connecticut**\n",
        "\n",
        "-----------------------------------\n",
        "\n",
        "\n",
        "**Your Name Here:** Abishek Karnan Rajesh\n",
        "\n",
        "Put your sampling and interpretability skills to the test!\n",
        "\n",
        "You will build a classification model using a sampling technique of your choice (oversampling, undersampling or SMOTE - I'm not testing how good your model is for this assignment, just that you know how to interpret the model!). We will use CA housing since you have some experience with this from tree-based models. You can use any classification model we have covered in class (DTC, RFC, GBC or logistic regression.)\n",
        "\n",
        "# Rubric\n",
        "* (10 points) I've already made your data 'imbalanced' with the 75th percentile. Split the raw data into train and test partition with an 80/20 split. Then use a sampling technique (oversampling, undersampling, SMOTE) on the train data. Important: do not change the class imbalance in the test partition! Count values of each class before and after your sampling to confirm your understanding of how the sampling worked. Your new train data should be more or less balanced, while the test data is still imbalanced. This allows for fair evaluation of the model.\n",
        "\n",
        "Then, using your fitted model, you will:\n",
        "* (40 points) Print the top 3 features (using permutation importance with 15 repeats) as a boxplot (like we do in class.)\n",
        "* (40 points) Create the partial dependence plots for the top 3 features (you may opt to use the `num_grid_points=10` argument if your code is taking a long time to run). Customize the plots so that the Y axis is consistent on each of the three plots and remember that the Y axis is showing the change in predicted probability.\n",
        "* (10 points) Write five meaningful bullets about what you see in the plots and tables. Does anything surprise you?\n",
        "  * **Optional:** Potential with issues concerning correlated predictors (read here for a cool way on how to address this: https://scikit-learn.org/stable/auto_examples/inspection/plot_permutation_importance_multicollinear.html)?"
      ],
      "metadata": {
        "id": "mlOEzxLwuORm"
      }
    },
    {
      "cell_type": "code",
      "source": [
        "import pandas as pd\n",
        "import numpy as np\n",
        "from sklearn.datasets import fetch_california_housing\n",
        "from sklearn.model_selection import train_test_split\n",
        "from imblearn.over_sampling import SMOTE\n",
        "from sklearn.preprocessing import MinMaxScaler\n",
        "from sklearn.linear_model import LogisticRegression\n",
        "from sklearn.metrics import classification_report\n",
        "from sklearn.inspection import permutation_importance\n",
        "import matplotlib.pyplot as plt\n",
        "from sklearn.ensemble import GradientBoostingClassifier\n",
        "from sklearn.ensemble import RandomForestClassifier\n",
        "from collections import Counter\n",
        "from sklearn.ensemble import RandomForestClassifier\n",
        "from sklearn.metrics import classification_report, confusion_matrix\n",
        "from imblearn.over_sampling import SMOTE # Import SMOTE"
      ],
      "metadata": {
        "id": "qjiMm6XivpGh"
      },
      "execution_count": 11,
      "outputs": []
    },
    {
      "cell_type": "code",
      "source": [
        "df = pd.read_csv('/content/sample_data/california_housing_train.csv')\n",
        "df.head()"
      ],
      "metadata": {
        "colab": {
          "base_uri": "https://localhost:8080/",
          "height": 206
        },
        "id": "aplk128smW9R",
        "outputId": "bc113e28-5613-4392-e6c0-2c3762371f71"
      },
      "execution_count": 12,
      "outputs": [
        {
          "output_type": "execute_result",
          "data": {
            "text/plain": [
              "   longitude  latitude  housing_median_age  total_rooms  total_bedrooms  \\\n",
              "0    -114.31     34.19                15.0       5612.0          1283.0   \n",
              "1    -114.47     34.40                19.0       7650.0          1901.0   \n",
              "2    -114.56     33.69                17.0        720.0           174.0   \n",
              "3    -114.57     33.64                14.0       1501.0           337.0   \n",
              "4    -114.57     33.57                20.0       1454.0           326.0   \n",
              "\n",
              "   population  households  median_income  median_house_value  \n",
              "0      1015.0       472.0         1.4936             66900.0  \n",
              "1      1129.0       463.0         1.8200             80100.0  \n",
              "2       333.0       117.0         1.6509             85700.0  \n",
              "3       515.0       226.0         3.1917             73400.0  \n",
              "4       624.0       262.0         1.9250             65500.0  "
            ],
            "text/html": [
              "\n",
              "  <div id=\"df-58f4fc89-4de9-4e82-8ed5-f3b7844d6224\" class=\"colab-df-container\">\n",
              "    <div>\n",
              "<style scoped>\n",
              "    .dataframe tbody tr th:only-of-type {\n",
              "        vertical-align: middle;\n",
              "    }\n",
              "\n",
              "    .dataframe tbody tr th {\n",
              "        vertical-align: top;\n",
              "    }\n",
              "\n",
              "    .dataframe thead th {\n",
              "        text-align: right;\n",
              "    }\n",
              "</style>\n",
              "<table border=\"1\" class=\"dataframe\">\n",
              "  <thead>\n",
              "    <tr style=\"text-align: right;\">\n",
              "      <th></th>\n",
              "      <th>longitude</th>\n",
              "      <th>latitude</th>\n",
              "      <th>housing_median_age</th>\n",
              "      <th>total_rooms</th>\n",
              "      <th>total_bedrooms</th>\n",
              "      <th>population</th>\n",
              "      <th>households</th>\n",
              "      <th>median_income</th>\n",
              "      <th>median_house_value</th>\n",
              "    </tr>\n",
              "  </thead>\n",
              "  <tbody>\n",
              "    <tr>\n",
              "      <th>0</th>\n",
              "      <td>-114.31</td>\n",
              "      <td>34.19</td>\n",
              "      <td>15.0</td>\n",
              "      <td>5612.0</td>\n",
              "      <td>1283.0</td>\n",
              "      <td>1015.0</td>\n",
              "      <td>472.0</td>\n",
              "      <td>1.4936</td>\n",
              "      <td>66900.0</td>\n",
              "    </tr>\n",
              "    <tr>\n",
              "      <th>1</th>\n",
              "      <td>-114.47</td>\n",
              "      <td>34.40</td>\n",
              "      <td>19.0</td>\n",
              "      <td>7650.0</td>\n",
              "      <td>1901.0</td>\n",
              "      <td>1129.0</td>\n",
              "      <td>463.0</td>\n",
              "      <td>1.8200</td>\n",
              "      <td>80100.0</td>\n",
              "    </tr>\n",
              "    <tr>\n",
              "      <th>2</th>\n",
              "      <td>-114.56</td>\n",
              "      <td>33.69</td>\n",
              "      <td>17.0</td>\n",
              "      <td>720.0</td>\n",
              "      <td>174.0</td>\n",
              "      <td>333.0</td>\n",
              "      <td>117.0</td>\n",
              "      <td>1.6509</td>\n",
              "      <td>85700.0</td>\n",
              "    </tr>\n",
              "    <tr>\n",
              "      <th>3</th>\n",
              "      <td>-114.57</td>\n",
              "      <td>33.64</td>\n",
              "      <td>14.0</td>\n",
              "      <td>1501.0</td>\n",
              "      <td>337.0</td>\n",
              "      <td>515.0</td>\n",
              "      <td>226.0</td>\n",
              "      <td>3.1917</td>\n",
              "      <td>73400.0</td>\n",
              "    </tr>\n",
              "    <tr>\n",
              "      <th>4</th>\n",
              "      <td>-114.57</td>\n",
              "      <td>33.57</td>\n",
              "      <td>20.0</td>\n",
              "      <td>1454.0</td>\n",
              "      <td>326.0</td>\n",
              "      <td>624.0</td>\n",
              "      <td>262.0</td>\n",
              "      <td>1.9250</td>\n",
              "      <td>65500.0</td>\n",
              "    </tr>\n",
              "  </tbody>\n",
              "</table>\n",
              "</div>\n",
              "    <div class=\"colab-df-buttons\">\n",
              "\n",
              "  <div class=\"colab-df-container\">\n",
              "    <button class=\"colab-df-convert\" onclick=\"convertToInteractive('df-58f4fc89-4de9-4e82-8ed5-f3b7844d6224')\"\n",
              "            title=\"Convert this dataframe to an interactive table.\"\n",
              "            style=\"display:none;\">\n",
              "\n",
              "  <svg xmlns=\"http://www.w3.org/2000/svg\" height=\"24px\" viewBox=\"0 -960 960 960\">\n",
              "    <path d=\"M120-120v-720h720v720H120Zm60-500h600v-160H180v160Zm220 220h160v-160H400v160Zm0 220h160v-160H400v160ZM180-400h160v-160H180v160Zm440 0h160v-160H620v160ZM180-180h160v-160H180v160Zm440 0h160v-160H620v160Z\"/>\n",
              "  </svg>\n",
              "    </button>\n",
              "\n",
              "  <style>\n",
              "    .colab-df-container {\n",
              "      display:flex;\n",
              "      gap: 12px;\n",
              "    }\n",
              "\n",
              "    .colab-df-convert {\n",
              "      background-color: #E8F0FE;\n",
              "      border: none;\n",
              "      border-radius: 50%;\n",
              "      cursor: pointer;\n",
              "      display: none;\n",
              "      fill: #1967D2;\n",
              "      height: 32px;\n",
              "      padding: 0 0 0 0;\n",
              "      width: 32px;\n",
              "    }\n",
              "\n",
              "    .colab-df-convert:hover {\n",
              "      background-color: #E2EBFA;\n",
              "      box-shadow: 0px 1px 2px rgba(60, 64, 67, 0.3), 0px 1px 3px 1px rgba(60, 64, 67, 0.15);\n",
              "      fill: #174EA6;\n",
              "    }\n",
              "\n",
              "    .colab-df-buttons div {\n",
              "      margin-bottom: 4px;\n",
              "    }\n",
              "\n",
              "    [theme=dark] .colab-df-convert {\n",
              "      background-color: #3B4455;\n",
              "      fill: #D2E3FC;\n",
              "    }\n",
              "\n",
              "    [theme=dark] .colab-df-convert:hover {\n",
              "      background-color: #434B5C;\n",
              "      box-shadow: 0px 1px 3px 1px rgba(0, 0, 0, 0.15);\n",
              "      filter: drop-shadow(0px 1px 2px rgba(0, 0, 0, 0.3));\n",
              "      fill: #FFFFFF;\n",
              "    }\n",
              "  </style>\n",
              "\n",
              "    <script>\n",
              "      const buttonEl =\n",
              "        document.querySelector('#df-58f4fc89-4de9-4e82-8ed5-f3b7844d6224 button.colab-df-convert');\n",
              "      buttonEl.style.display =\n",
              "        google.colab.kernel.accessAllowed ? 'block' : 'none';\n",
              "\n",
              "      async function convertToInteractive(key) {\n",
              "        const element = document.querySelector('#df-58f4fc89-4de9-4e82-8ed5-f3b7844d6224');\n",
              "        const dataTable =\n",
              "          await google.colab.kernel.invokeFunction('convertToInteractive',\n",
              "                                                    [key], {});\n",
              "        if (!dataTable) return;\n",
              "\n",
              "        const docLinkHtml = 'Like what you see? Visit the ' +\n",
              "          '<a target=\"_blank\" href=https://colab.research.google.com/notebooks/data_table.ipynb>data table notebook</a>'\n",
              "          + ' to learn more about interactive tables.';\n",
              "        element.innerHTML = '';\n",
              "        dataTable['output_type'] = 'display_data';\n",
              "        await google.colab.output.renderOutput(dataTable, element);\n",
              "        const docLink = document.createElement('div');\n",
              "        docLink.innerHTML = docLinkHtml;\n",
              "        element.appendChild(docLink);\n",
              "      }\n",
              "    </script>\n",
              "  </div>\n",
              "\n",
              "\n",
              "<div id=\"df-97902aa4-9949-4a6f-b65a-b49740a1ee2f\">\n",
              "  <button class=\"colab-df-quickchart\" onclick=\"quickchart('df-97902aa4-9949-4a6f-b65a-b49740a1ee2f')\"\n",
              "            title=\"Suggest charts\"\n",
              "            style=\"display:none;\">\n",
              "\n",
              "<svg xmlns=\"http://www.w3.org/2000/svg\" height=\"24px\"viewBox=\"0 0 24 24\"\n",
              "     width=\"24px\">\n",
              "    <g>\n",
              "        <path d=\"M19 3H5c-1.1 0-2 .9-2 2v14c0 1.1.9 2 2 2h14c1.1 0 2-.9 2-2V5c0-1.1-.9-2-2-2zM9 17H7v-7h2v7zm4 0h-2V7h2v10zm4 0h-2v-4h2v4z\"/>\n",
              "    </g>\n",
              "</svg>\n",
              "  </button>\n",
              "\n",
              "<style>\n",
              "  .colab-df-quickchart {\n",
              "      --bg-color: #E8F0FE;\n",
              "      --fill-color: #1967D2;\n",
              "      --hover-bg-color: #E2EBFA;\n",
              "      --hover-fill-color: #174EA6;\n",
              "      --disabled-fill-color: #AAA;\n",
              "      --disabled-bg-color: #DDD;\n",
              "  }\n",
              "\n",
              "  [theme=dark] .colab-df-quickchart {\n",
              "      --bg-color: #3B4455;\n",
              "      --fill-color: #D2E3FC;\n",
              "      --hover-bg-color: #434B5C;\n",
              "      --hover-fill-color: #FFFFFF;\n",
              "      --disabled-bg-color: #3B4455;\n",
              "      --disabled-fill-color: #666;\n",
              "  }\n",
              "\n",
              "  .colab-df-quickchart {\n",
              "    background-color: var(--bg-color);\n",
              "    border: none;\n",
              "    border-radius: 50%;\n",
              "    cursor: pointer;\n",
              "    display: none;\n",
              "    fill: var(--fill-color);\n",
              "    height: 32px;\n",
              "    padding: 0;\n",
              "    width: 32px;\n",
              "  }\n",
              "\n",
              "  .colab-df-quickchart:hover {\n",
              "    background-color: var(--hover-bg-color);\n",
              "    box-shadow: 0 1px 2px rgba(60, 64, 67, 0.3), 0 1px 3px 1px rgba(60, 64, 67, 0.15);\n",
              "    fill: var(--button-hover-fill-color);\n",
              "  }\n",
              "\n",
              "  .colab-df-quickchart-complete:disabled,\n",
              "  .colab-df-quickchart-complete:disabled:hover {\n",
              "    background-color: var(--disabled-bg-color);\n",
              "    fill: var(--disabled-fill-color);\n",
              "    box-shadow: none;\n",
              "  }\n",
              "\n",
              "  .colab-df-spinner {\n",
              "    border: 2px solid var(--fill-color);\n",
              "    border-color: transparent;\n",
              "    border-bottom-color: var(--fill-color);\n",
              "    animation:\n",
              "      spin 1s steps(1) infinite;\n",
              "  }\n",
              "\n",
              "  @keyframes spin {\n",
              "    0% {\n",
              "      border-color: transparent;\n",
              "      border-bottom-color: var(--fill-color);\n",
              "      border-left-color: var(--fill-color);\n",
              "    }\n",
              "    20% {\n",
              "      border-color: transparent;\n",
              "      border-left-color: var(--fill-color);\n",
              "      border-top-color: var(--fill-color);\n",
              "    }\n",
              "    30% {\n",
              "      border-color: transparent;\n",
              "      border-left-color: var(--fill-color);\n",
              "      border-top-color: var(--fill-color);\n",
              "      border-right-color: var(--fill-color);\n",
              "    }\n",
              "    40% {\n",
              "      border-color: transparent;\n",
              "      border-right-color: var(--fill-color);\n",
              "      border-top-color: var(--fill-color);\n",
              "    }\n",
              "    60% {\n",
              "      border-color: transparent;\n",
              "      border-right-color: var(--fill-color);\n",
              "    }\n",
              "    80% {\n",
              "      border-color: transparent;\n",
              "      border-right-color: var(--fill-color);\n",
              "      border-bottom-color: var(--fill-color);\n",
              "    }\n",
              "    90% {\n",
              "      border-color: transparent;\n",
              "      border-bottom-color: var(--fill-color);\n",
              "    }\n",
              "  }\n",
              "</style>\n",
              "\n",
              "  <script>\n",
              "    async function quickchart(key) {\n",
              "      const quickchartButtonEl =\n",
              "        document.querySelector('#' + key + ' button');\n",
              "      quickchartButtonEl.disabled = true;  // To prevent multiple clicks.\n",
              "      quickchartButtonEl.classList.add('colab-df-spinner');\n",
              "      try {\n",
              "        const charts = await google.colab.kernel.invokeFunction(\n",
              "            'suggestCharts', [key], {});\n",
              "      } catch (error) {\n",
              "        console.error('Error during call to suggestCharts:', error);\n",
              "      }\n",
              "      quickchartButtonEl.classList.remove('colab-df-spinner');\n",
              "      quickchartButtonEl.classList.add('colab-df-quickchart-complete');\n",
              "    }\n",
              "    (() => {\n",
              "      let quickchartButtonEl =\n",
              "        document.querySelector('#df-97902aa4-9949-4a6f-b65a-b49740a1ee2f button');\n",
              "      quickchartButtonEl.style.display =\n",
              "        google.colab.kernel.accessAllowed ? 'block' : 'none';\n",
              "    })();\n",
              "  </script>\n",
              "</div>\n",
              "    </div>\n",
              "  </div>\n"
            ],
            "application/vnd.google.colaboratory.intrinsic+json": {
              "type": "dataframe",
              "variable_name": "df",
              "summary": "{\n  \"name\": \"df\",\n  \"rows\": 17000,\n  \"fields\": [\n    {\n      \"column\": \"longitude\",\n      \"properties\": {\n        \"dtype\": \"number\",\n        \"std\": 2.0051664084261778,\n        \"min\": -124.35,\n        \"max\": -114.31,\n        \"num_unique_values\": 827,\n        \"samples\": [\n          -117.56,\n          -123.32,\n          -118.26\n        ],\n        \"semantic_type\": \"\",\n        \"description\": \"\"\n      }\n    },\n    {\n      \"column\": \"latitude\",\n      \"properties\": {\n        \"dtype\": \"number\",\n        \"std\": 2.1373397946570836,\n        \"min\": 32.54,\n        \"max\": 41.95,\n        \"num_unique_values\": 840,\n        \"samples\": [\n          38.44,\n          40.79,\n          32.69\n        ],\n        \"semantic_type\": \"\",\n        \"description\": \"\"\n      }\n    },\n    {\n      \"column\": \"housing_median_age\",\n      \"properties\": {\n        \"dtype\": \"number\",\n        \"std\": 12.586936981660399,\n        \"min\": 1.0,\n        \"max\": 52.0,\n        \"num_unique_values\": 52,\n        \"samples\": [\n          23.0,\n          52.0,\n          47.0\n        ],\n        \"semantic_type\": \"\",\n        \"description\": \"\"\n      }\n    },\n    {\n      \"column\": \"total_rooms\",\n      \"properties\": {\n        \"dtype\": \"number\",\n        \"std\": 2179.947071452767,\n        \"min\": 2.0,\n        \"max\": 37937.0,\n        \"num_unique_values\": 5533,\n        \"samples\": [\n          3564.0,\n          6955.0,\n          5451.0\n        ],\n        \"semantic_type\": \"\",\n        \"description\": \"\"\n      }\n    },\n    {\n      \"column\": \"total_bedrooms\",\n      \"properties\": {\n        \"dtype\": \"number\",\n        \"std\": 421.4994515798646,\n        \"min\": 1.0,\n        \"max\": 6445.0,\n        \"num_unique_values\": 1848,\n        \"samples\": [\n          729.0,\n          719.0,\n          2075.0\n        ],\n        \"semantic_type\": \"\",\n        \"description\": \"\"\n      }\n    },\n    {\n      \"column\": \"population\",\n      \"properties\": {\n        \"dtype\": \"number\",\n        \"std\": 1147.8529591595266,\n        \"min\": 3.0,\n        \"max\": 35682.0,\n        \"num_unique_values\": 3683,\n        \"samples\": [\n          249.0,\n          1735.0,\n          235.0\n        ],\n        \"semantic_type\": \"\",\n        \"description\": \"\"\n      }\n    },\n    {\n      \"column\": \"households\",\n      \"properties\": {\n        \"dtype\": \"number\",\n        \"std\": 384.5208408559009,\n        \"min\": 1.0,\n        \"max\": 6082.0,\n        \"num_unique_values\": 1740,\n        \"samples\": [\n          390.0,\n          1089.0,\n          1351.0\n        ],\n        \"semantic_type\": \"\",\n        \"description\": \"\"\n      }\n    },\n    {\n      \"column\": \"median_income\",\n      \"properties\": {\n        \"dtype\": \"number\",\n        \"std\": 1.9081565183791036,\n        \"min\": 0.4999,\n        \"max\": 15.0001,\n        \"num_unique_values\": 11175,\n        \"samples\": [\n          7.2655,\n          5.6293,\n          4.2262\n        ],\n        \"semantic_type\": \"\",\n        \"description\": \"\"\n      }\n    },\n    {\n      \"column\": \"median_house_value\",\n      \"properties\": {\n        \"dtype\": \"number\",\n        \"std\": 115983.76438720885,\n        \"min\": 14999.0,\n        \"max\": 500001.0,\n        \"num_unique_values\": 3694,\n        \"samples\": [\n          162300.0,\n          346800.0,\n          116700.0\n        ],\n        \"semantic_type\": \"\",\n        \"description\": \"\"\n      }\n    }\n  ]\n}"
            }
          },
          "metadata": {},
          "execution_count": 12
        }
      ]
    },
    {
      "cell_type": "markdown",
      "source": [
        "And we will recode the target variable to a classification problem."
      ],
      "metadata": {
        "id": "MSklVwv794tE"
      }
    },
    {
      "cell_type": "code",
      "source": [
        "# by using 75th percentile, we will have nice imbalanced data!\n",
        "df['median_house_value'] = np.where(df['median_house_value'] > np.percentile(df['median_house_value'], q=75), 1, 0)\n",
        "df['median_house_value'].value_counts()"
      ],
      "metadata": {
        "id": "LvT61xo097ST",
        "colab": {
          "base_uri": "https://localhost:8080/"
        },
        "outputId": "cbc4c260-2a87-4359-e75e-a50df49c5496"
      },
      "execution_count": 13,
      "outputs": [
        {
          "output_type": "execute_result",
          "data": {
            "text/plain": [
              "median_house_value\n",
              "0    12753\n",
              "1     4247\n",
              "Name: count, dtype: int64"
            ]
          },
          "metadata": {},
          "execution_count": 13
        }
      ]
    },
    {
      "cell_type": "code",
      "source": [
        "# don't forget to split into train/test!"
      ],
      "metadata": {
        "id": "6Zp3Z4IRAbvi"
      },
      "execution_count": 14,
      "outputs": []
    },
    {
      "cell_type": "code",
      "source": [
        "y = df['median_house_value']\n",
        "X = df.drop('median_house_value', axis=1)\n",
        "\n",
        "# Displaying the shapes of X and Y variables\n",
        "print(X.shape, y.shape)\n",
        "\n",
        "# Splitting the data into training and testing sets\n",
        "X_train,X_test,y_train,y_test = train_test_split(X,y,test_size=0.2, random_state=3118572)\n",
        "\n",
        "# Displaying the shapes of training and testing sets\n",
        "print(\"Shape of X_train :\" ,X_train.shape)\n",
        "print(\"Shape of X_test :\" ,X_test.shape)\n",
        "print(\"Shape of y_train :\" ,y_train.shape)\n",
        "print(\"Shape of y_test :\",y_test.shape)\n",
        "\n",
        "# Displaying the count of categories in the target variable before sampling\n",
        "print(\"\\nCategory count before sampling\")\n",
        "print(Counter(y_train))"
      ],
      "metadata": {
        "colab": {
          "base_uri": "https://localhost:8080/"
        },
        "id": "TC3ZZd1Kmxb_",
        "outputId": "5549c7a7-beec-4c10-f07d-7246253501aa"
      },
      "execution_count": 15,
      "outputs": [
        {
          "output_type": "stream",
          "name": "stdout",
          "text": [
            "(17000, 8) (17000,)\n",
            "Shape of X_train : (13600, 8)\n",
            "Shape of X_test : (3400, 8)\n",
            "Shape of y_train : (13600,)\n",
            "Shape of y_test : (3400,)\n",
            "\n",
            "Category count before sampling\n",
            "Counter({0: 10167, 1: 3433})\n"
          ]
        }
      ]
    },
    {
      "cell_type": "code",
      "source": [
        "Counter(df['median_house_value'])"
      ],
      "metadata": {
        "colab": {
          "base_uri": "https://localhost:8080/"
        },
        "id": "yr69TMyTsa-k",
        "outputId": "946bb516-16f4-4d26-8f41-85e544438021"
      },
      "execution_count": 16,
      "outputs": [
        {
          "output_type": "execute_result",
          "data": {
            "text/plain": [
              "Counter({0: 12753, 1: 4247})"
            ]
          },
          "metadata": {},
          "execution_count": 16
        }
      ]
    },
    {
      "cell_type": "markdown",
      "source": [
        "Performing Minmax scalling before sampling:"
      ],
      "metadata": {
        "id": "u8kTKmwvpzIE"
      }
    },
    {
      "cell_type": "code",
      "source": [
        "scaler = MinMaxScaler()\n",
        "X_train = scaler.fit_transform(X_train)\n",
        "X_test = scaler.transform(X_test)"
      ],
      "metadata": {
        "id": "pEhnvPG7p5hQ"
      },
      "execution_count": 17,
      "outputs": []
    },
    {
      "cell_type": "markdown",
      "source": [
        "# Sampling"
      ],
      "metadata": {
        "id": "P847REMT_l24"
      }
    },
    {
      "cell_type": "code",
      "source": [
        "# add your sampling code here\n",
        "# SMOTE, over, under... choose one!"
      ],
      "metadata": {
        "id": "iACWT_64_oHm"
      },
      "execution_count": 18,
      "outputs": []
    },
    {
      "cell_type": "markdown",
      "source": [
        "##Creating a RandomSMOTE instance"
      ],
      "metadata": {
        "id": "05Qxs3t-L4ME"
      }
    },
    {
      "cell_type": "code",
      "source": [
        "# Creating a RandomSMOTE instance\n",
        "smote = SMOTE(random_state=3118572)\n",
        "\n",
        "# Apply SMOTE to the training data\n",
        "X_train_smote, y_train_smote = smote.fit_resample(X_train, y_train)\n",
        "\n",
        "# summarize the new class distribution\n",
        "counter = Counter(y_train_smote)\n",
        "print(\"Value counter after applying SMOTE : \",counter)"
      ],
      "metadata": {
        "colab": {
          "base_uri": "https://localhost:8080/"
        },
        "id": "uWV3g4xGwRbD",
        "outputId": "40915860-ef34-4203-be20-1dc0cdeee458"
      },
      "execution_count": 19,
      "outputs": [
        {
          "output_type": "stream",
          "name": "stdout",
          "text": [
            "Value counter after applying SMOTE :  Counter({1: 10167, 0: 10167})\n"
          ]
        }
      ]
    },
    {
      "cell_type": "markdown",
      "source": [
        "# Model and Metrics"
      ],
      "metadata": {
        "id": "xgm__s2pAXW5"
      }
    },
    {
      "cell_type": "code",
      "source": [
        "# use any model you want - fit on train, predict on test!\n",
        "# you should print confusion matrix and classification report\n",
        "#  for train and test partitions"
      ],
      "metadata": {
        "id": "RMwCQ7W6Aees"
      },
      "execution_count": 20,
      "outputs": []
    },
    {
      "cell_type": "code",
      "source": [
        "# Training the model on the balanced dataset\n",
        "RFC = RandomForestClassifier(random_state=42)\n",
        "RFC.fit(X_train_smote, y_train_smote)\n",
        "\n",
        "# Making predictions on the training and testing data\n",
        "train_preds = RFC.predict(X_train_smote)\n",
        "test_preds = RFC.predict(X_test)\n",
        "\n",
        "# Displaying the classification report and confusion matrix for the training data\n",
        "print('Train results: \\n')\n",
        "print(classification_report(y_train_smote, train_preds))\n",
        "print('Confusion Matrix for Train Data:\\n')\n",
        "print(confusion_matrix(y_train_smote, train_preds))\n",
        "\n",
        "# Displaying the classification report and confusion matrix for the testing data\n",
        "print('\\nTest results: \\n')\n",
        "print(classification_report(y_test, test_preds))\n",
        "print('Confusion Matrix for Test Data:\\n')\n",
        "print(confusion_matrix(y_test,test_preds))"
      ],
      "metadata": {
        "colab": {
          "base_uri": "https://localhost:8080/"
        },
        "id": "6hgVZN9VwloQ",
        "outputId": "274fc3dd-4f73-4ea4-99c9-9689d822d6cb"
      },
      "execution_count": 21,
      "outputs": [
        {
          "output_type": "stream",
          "name": "stdout",
          "text": [
            "Train results: \n",
            "\n",
            "              precision    recall  f1-score   support\n",
            "\n",
            "           0       1.00      1.00      1.00     10167\n",
            "           1       1.00      1.00      1.00     10167\n",
            "\n",
            "    accuracy                           1.00     20334\n",
            "   macro avg       1.00      1.00      1.00     20334\n",
            "weighted avg       1.00      1.00      1.00     20334\n",
            "\n",
            "Confusion Matrix for Train Data:\n",
            "\n",
            "[[10167     0]\n",
            " [    0 10167]]\n",
            "\n",
            "Test results: \n",
            "\n",
            "              precision    recall  f1-score   support\n",
            "\n",
            "           0       0.95      0.93      0.94      2586\n",
            "           1       0.78      0.84      0.81       814\n",
            "\n",
            "    accuracy                           0.91      3400\n",
            "   macro avg       0.87      0.89      0.88      3400\n",
            "weighted avg       0.91      0.91      0.91      3400\n",
            "\n",
            "Confusion Matrix for Test Data:\n",
            "\n",
            "[[2398  188]\n",
            " [ 128  686]]\n"
          ]
        }
      ]
    },
    {
      "cell_type": "markdown",
      "source": [
        "# Interpretability"
      ],
      "metadata": {
        "id": "j99ZHu-vAqVK"
      }
    },
    {
      "cell_type": "markdown",
      "source": [
        "## Permutation Importance"
      ],
      "metadata": {
        "id": "xN63ERDfAszH"
      }
    },
    {
      "cell_type": "code",
      "source": [
        "# permutation importance is on X_test"
      ],
      "metadata": {
        "id": "4TKUEyYhAsNz"
      },
      "execution_count": 22,
      "outputs": []
    },
    {
      "cell_type": "markdown",
      "source": [
        "## Importing"
      ],
      "metadata": {
        "id": "Uu0yBQbc0FPo"
      }
    },
    {
      "cell_type": "code",
      "source": [
        "from sklearn.inspection import permutation_importance\n",
        "import matplotlib.pyplot as plt\n",
        "import seaborn as sns\n",
        "import pandas as pd\n",
        "import numpy as np"
      ],
      "metadata": {
        "id": "W4h9hThGzZhc"
      },
      "execution_count": 23,
      "outputs": []
    },
    {
      "cell_type": "code",
      "source": [
        "#Assign the model to clf\n",
        "clf = RFC"
      ],
      "metadata": {
        "id": "JUo6ppMw0J_b"
      },
      "execution_count": 24,
      "outputs": []
    },
    {
      "cell_type": "markdown",
      "source": [
        "###Calculate Permutation Importance on the test set"
      ],
      "metadata": {
        "id": "blYqbCONMb-W"
      }
    },
    {
      "cell_type": "code",
      "source": [
        "# Step 3: Calculate Permutation Importance on the test set\n",
        "perm_importance = permutation_importance(clf, X_test, y_test, n_repeats=15, random_state=3118572)"
      ],
      "metadata": {
        "id": "TikUGNEhzdz0"
      },
      "execution_count": 25,
      "outputs": []
    },
    {
      "cell_type": "markdown",
      "source": [
        "### Extract and sort the importances"
      ],
      "metadata": {
        "id": "jEGDX_7hMft9"
      }
    },
    {
      "cell_type": "code",
      "source": [
        "# Extract and sort the importances\n",
        "sorted_idx = perm_importance.importances_mean.argsort()"
      ],
      "metadata": {
        "id": "835V0xcezh_b"
      },
      "execution_count": 26,
      "outputs": []
    },
    {
      "cell_type": "markdown",
      "source": [
        "### Get the top 3 features"
      ],
      "metadata": {
        "id": "LjmWbt1WMmwS"
      }
    },
    {
      "cell_type": "code",
      "source": [
        "# Get the top 3 features\n",
        "top_3_features = sorted_idx[-3:]"
      ],
      "metadata": {
        "id": "gkg3r9Q1zncg"
      },
      "execution_count": 27,
      "outputs": []
    },
    {
      "cell_type": "markdown",
      "source": [
        "### Create a DataFrame for easy plotting"
      ],
      "metadata": {
        "id": "0FUFnXduMp79"
      }
    },
    {
      "cell_type": "code",
      "source": [
        "# Create a DataFrame for easy plotting\n",
        "data = pd.DataFrame(perm_importance.importances[top_3_features].T, columns=np.array(X.columns)[top_3_features])"
      ],
      "metadata": {
        "id": "aiuH6zt9zrgg"
      },
      "execution_count": 28,
      "outputs": []
    },
    {
      "cell_type": "markdown",
      "source": [
        "###Plotting"
      ],
      "metadata": {
        "id": "5isV0oQ4Mvq5"
      }
    },
    {
      "cell_type": "code",
      "source": [
        "# Step 4: Plotting\n",
        "plt.figure(figsize=(9, 7))\n",
        "sns.boxplot(data=data, orient=\"h\", palette=\"vlag\")\n",
        "plt.title('Top 3 Features of the Permutation Importance (Test Set)')\n",
        "plt.xlabel('Important')\n",
        "plt.ylabel('Features available')\n",
        "plt.tight_layout()\n",
        "plt.show()"
      ],
      "metadata": {
        "colab": {
          "base_uri": "https://localhost:8080/",
          "height": 707
        },
        "id": "B7sNfeUsx2Ht",
        "outputId": "1b6af04a-f85b-423a-e15f-cae1a1fa2e76"
      },
      "execution_count": 29,
      "outputs": [
        {
          "output_type": "display_data",
          "data": {
            "text/plain": [
              "<Figure size 900x700 with 1 Axes>"
            ],
            "image/png": "[encoded data removed]"
          },
          "metadata": {}
        }
      ]
    },
    {
      "cell_type": "markdown",
      "source": [
        "## Partial Dependence"
      ],
      "metadata": {
        "id": "53mNce4iAwIX"
      }
    },
    {
      "cell_type": "code",
      "source": [
        "# partial dependence is on X_train"
      ],
      "metadata": {
        "id": "IsxgzjxnD5ZI"
      },
      "execution_count": 30,
      "outputs": []
    },
    {
      "cell_type": "markdown",
      "source": [
        "### Data frame Creation"
      ],
      "metadata": {
        "id": "10SJghcGM090"
      }
    },
    {
      "cell_type": "code",
      "source": [
        "# Dataframe train_X_df is been created with the balanced data\n",
        "train_X_df = pd.DataFrame(X_train_smote, columns=X.columns)"
      ],
      "metadata": {
        "id": "K_nI2rpd0-ip"
      },
      "execution_count": 31,
      "outputs": []
    },
    {
      "cell_type": "code",
      "source": [
        "# First 5 rows of the dataFrame\n",
        "train_X_df.head()"
      ],
      "metadata": {
        "colab": {
          "base_uri": "https://localhost:8080/",
          "height": 206
        },
        "id": "1_NR1XnR07LR",
        "outputId": "4df564d0-3c86-4dbf-94de-453bd745176c"
      },
      "execution_count": 32,
      "outputs": [
        {
          "output_type": "execute_result",
          "data": {
            "text/plain": [
              "   longitude  latitude  housing_median_age  total_rooms  total_bedrooms  \\\n",
              "0   0.202202  0.570670            0.784314     0.079267        0.087934   \n",
              "1   0.703704  0.048884            0.686275     0.063899        0.082815   \n",
              "2   0.699700  0.162593            0.764706     0.077343        0.133638   \n",
              "3   0.606607  0.160468            0.235294     0.044840        0.127239   \n",
              "4   0.703704  0.173220            0.294118     0.000738        0.000366   \n",
              "\n",
              "   population  households  median_income  \n",
              "0    0.029429    0.094256       0.367450  \n",
              "1    0.030326    0.080763       0.320851  \n",
              "2    0.056644    0.130108       0.111309  \n",
              "3    0.051010    0.128759       0.022682  \n",
              "4    0.001289    0.001349       0.284486  "
            ],
            "text/html": [
              "\n",
              "  <div id=\"df-40193852-f963-48c3-8b94-6e548e2a6448\" class=\"colab-df-container\">\n",
              "    <div>\n",
              "<style scoped>\n",
              "    .dataframe tbody tr th:only-of-type {\n",
              "        vertical-align: middle;\n",
              "    }\n",
              "\n",
              "    .dataframe tbody tr th {\n",
              "        vertical-align: top;\n",
              "    }\n",
              "\n",
              "    .dataframe thead th {\n",
              "        text-align: right;\n",
              "    }\n",
              "</style>\n",
              "<table border=\"1\" class=\"dataframe\">\n",
              "  <thead>\n",
              "    <tr style=\"text-align: right;\">\n",
              "      <th></th>\n",
              "      <th>longitude</th>\n",
              "      <th>latitude</th>\n",
              "      <th>housing_median_age</th>\n",
              "      <th>total_rooms</th>\n",
              "      <th>total_bedrooms</th>\n",
              "      <th>population</th>\n",
              "      <th>households</th>\n",
              "      <th>median_income</th>\n",
              "    </tr>\n",
              "  </thead>\n",
              "  <tbody>\n",
              "    <tr>\n",
              "      <th>0</th>\n",
              "      <td>0.202202</td>\n",
              "      <td>0.570670</td>\n",
              "      <td>0.784314</td>\n",
              "      <td>0.079267</td>\n",
              "      <td>0.087934</td>\n",
              "      <td>0.029429</td>\n",
              "      <td>0.094256</td>\n",
              "      <td>0.367450</td>\n",
              "    </tr>\n",
              "    <tr>\n",
              "      <th>1</th>\n",
              "      <td>0.703704</td>\n",
              "      <td>0.048884</td>\n",
              "      <td>0.686275</td>\n",
              "      <td>0.063899</td>\n",
              "      <td>0.082815</td>\n",
              "      <td>0.030326</td>\n",
              "      <td>0.080763</td>\n",
              "      <td>0.320851</td>\n",
              "    </tr>\n",
              "    <tr>\n",
              "      <th>2</th>\n",
              "      <td>0.699700</td>\n",
              "      <td>0.162593</td>\n",
              "      <td>0.764706</td>\n",
              "      <td>0.077343</td>\n",
              "      <td>0.133638</td>\n",
              "      <td>0.056644</td>\n",
              "      <td>0.130108</td>\n",
              "      <td>0.111309</td>\n",
              "    </tr>\n",
              "    <tr>\n",
              "      <th>3</th>\n",
              "      <td>0.606607</td>\n",
              "      <td>0.160468</td>\n",
              "      <td>0.235294</td>\n",
              "      <td>0.044840</td>\n",
              "      <td>0.127239</td>\n",
              "      <td>0.051010</td>\n",
              "      <td>0.128759</td>\n",
              "      <td>0.022682</td>\n",
              "    </tr>\n",
              "    <tr>\n",
              "      <th>4</th>\n",
              "      <td>0.703704</td>\n",
              "      <td>0.173220</td>\n",
              "      <td>0.294118</td>\n",
              "      <td>0.000738</td>\n",
              "      <td>0.000366</td>\n",
              "      <td>0.001289</td>\n",
              "      <td>0.001349</td>\n",
              "      <td>0.284486</td>\n",
              "    </tr>\n",
              "  </tbody>\n",
              "</table>\n",
              "</div>\n",
              "    <div class=\"colab-df-buttons\">\n",
              "\n",
              "  <div class=\"colab-df-container\">\n",
              "    <button class=\"colab-df-convert\" onclick=\"convertToInteractive('df-40193852-f963-48c3-8b94-6e548e2a6448')\"\n",
              "            title=\"Convert this dataframe to an interactive table.\"\n",
              "            style=\"display:none;\">\n",
              "\n",
              "  <svg xmlns=\"http://www.w3.org/2000/svg\" height=\"24px\" viewBox=\"0 -960 960 960\">\n",
              "    <path d=\"M120-120v-720h720v720H120Zm60-500h600v-160H180v160Zm220 220h160v-160H400v160Zm0 220h160v-160H400v160ZM180-400h160v-160H180v160Zm440 0h160v-160H620v160ZM180-180h160v-160H180v160Zm440 0h160v-160H620v160Z\"/>\n",
              "  </svg>\n",
              "    </button>\n",
              "\n",
              "  <style>\n",
              "    .colab-df-container {\n",
              "      display:flex;\n",
              "      gap: 12px;\n",
              "    }\n",
              "\n",
              "    .colab-df-convert {\n",
              "      background-color: #E8F0FE;\n",
              "      border: none;\n",
              "      border-radius: 50%;\n",
              "      cursor: pointer;\n",
              "      display: none;\n",
              "      fill: #1967D2;\n",
              "      height: 32px;\n",
              "      padding: 0 0 0 0;\n",
              "      width: 32px;\n",
              "    }\n",
              "\n",
              "    .colab-df-convert:hover {\n",
              "      background-color: #E2EBFA;\n",
              "      box-shadow: 0px 1px 2px rgba(60, 64, 67, 0.3), 0px 1px 3px 1px rgba(60, 64, 67, 0.15);\n",
              "      fill: #174EA6;\n",
              "    }\n",
              "\n",
              "    .colab-df-buttons div {\n",
              "      margin-bottom: 4px;\n",
              "    }\n",
              "\n",
              "    [theme=dark] .colab-df-convert {\n",
              "      background-color: #3B4455;\n",
              "      fill: #D2E3FC;\n",
              "    }\n",
              "\n",
              "    [theme=dark] .colab-df-convert:hover {\n",
              "      background-color: #434B5C;\n",
              "      box-shadow: 0px 1px 3px 1px rgba(0, 0, 0, 0.15);\n",
              "      filter: drop-shadow(0px 1px 2px rgba(0, 0, 0, 0.3));\n",
              "      fill: #FFFFFF;\n",
              "    }\n",
              "  </style>\n",
              "\n",
              "    <script>\n",
              "      const buttonEl =\n",
              "        document.querySelector('#df-40193852-f963-48c3-8b94-6e548e2a6448 button.colab-df-convert');\n",
              "      buttonEl.style.display =\n",
              "        google.colab.kernel.accessAllowed ? 'block' : 'none';\n",
              "\n",
              "      async function convertToInteractive(key) {\n",
              "        const element = document.querySelector('#df-40193852-f963-48c3-8b94-6e548e2a6448');\n",
              "        const dataTable =\n",
              "          await google.colab.kernel.invokeFunction('convertToInteractive',\n",
              "                                                    [key], {});\n",
              "        if (!dataTable) return;\n",
              "\n",
              "        const docLinkHtml = 'Like what you see? Visit the ' +\n",
              "          '<a target=\"_blank\" href=https://colab.research.google.com/notebooks/data_table.ipynb>data table notebook</a>'\n",
              "          + ' to learn more about interactive tables.';\n",
              "        element.innerHTML = '';\n",
              "        dataTable['output_type'] = 'display_data';\n",
              "        await google.colab.output.renderOutput(dataTable, element);\n",
              "        const docLink = document.createElement('div');\n",
              "        docLink.innerHTML = docLinkHtml;\n",
              "        element.appendChild(docLink);\n",
              "      }\n",
              "    </script>\n",
              "  </div>\n",
              "\n",
              "\n",
              "<div id=\"df-fffc4d39-9b7f-45f5-8a42-a4a750bea1e5\">\n",
              "  <button class=\"colab-df-quickchart\" onclick=\"quickchart('df-fffc4d39-9b7f-45f5-8a42-a4a750bea1e5')\"\n",
              "            title=\"Suggest charts\"\n",
              "            style=\"display:none;\">\n",
              "\n",
              "<svg xmlns=\"http://www.w3.org/2000/svg\" height=\"24px\"viewBox=\"0 0 24 24\"\n",
              "     width=\"24px\">\n",
              "    <g>\n",
              "        <path d=\"M19 3H5c-1.1 0-2 .9-2 2v14c0 1.1.9 2 2 2h14c1.1 0 2-.9 2-2V5c0-1.1-.9-2-2-2zM9 17H7v-7h2v7zm4 0h-2V7h2v10zm4 0h-2v-4h2v4z\"/>\n",
              "    </g>\n",
              "</svg>\n",
              "  </button>\n",
              "\n",
              "<style>\n",
              "  .colab-df-quickchart {\n",
              "      --bg-color: #E8F0FE;\n",
              "      --fill-color: #1967D2;\n",
              "      --hover-bg-color: #E2EBFA;\n",
              "      --hover-fill-color: #174EA6;\n",
              "      --disabled-fill-color: #AAA;\n",
              "      --disabled-bg-color: #DDD;\n",
              "  }\n",
              "\n",
              "  [theme=dark] .colab-df-quickchart {\n",
              "      --bg-color: #3B4455;\n",
              "      --fill-color: #D2E3FC;\n",
              "      --hover-bg-color: #434B5C;\n",
              "      --hover-fill-color: #FFFFFF;\n",
              "      --disabled-bg-color: #3B4455;\n",
              "      --disabled-fill-color: #666;\n",
              "  }\n",
              "\n",
              "  .colab-df-quickchart {\n",
              "    background-color: var(--bg-color);\n",
              "    border: none;\n",
              "    border-radius: 50%;\n",
              "    cursor: pointer;\n",
              "    display: none;\n",
              "    fill: var(--fill-color);\n",
              "    height: 32px;\n",
              "    padding: 0;\n",
              "    width: 32px;\n",
              "  }\n",
              "\n",
              "  .colab-df-quickchart:hover {\n",
              "    background-color: var(--hover-bg-color);\n",
              "    box-shadow: 0 1px 2px rgba(60, 64, 67, 0.3), 0 1px 3px 1px rgba(60, 64, 67, 0.15);\n",
              "    fill: var(--button-hover-fill-color);\n",
              "  }\n",
              "\n",
              "  .colab-df-quickchart-complete:disabled,\n",
              "  .colab-df-quickchart-complete:disabled:hover {\n",
              "    background-color: var(--disabled-bg-color);\n",
              "    fill: var(--disabled-fill-color);\n",
              "    box-shadow: none;\n",
              "  }\n",
              "\n",
              "  .colab-df-spinner {\n",
              "    border: 2px solid var(--fill-color);\n",
              "    border-color: transparent;\n",
              "    border-bottom-color: var(--fill-color);\n",
              "    animation:\n",
              "      spin 1s steps(1) infinite;\n",
              "  }\n",
              "\n",
              "  @keyframes spin {\n",
              "    0% {\n",
              "      border-color: transparent;\n",
              "      border-bottom-color: var(--fill-color);\n",
              "      border-left-color: var(--fill-color);\n",
              "    }\n",
              "    20% {\n",
              "      border-color: transparent;\n",
              "      border-left-color: var(--fill-color);\n",
              "      border-top-color: var(--fill-color);\n",
              "    }\n",
              "    30% {\n",
              "      border-color: transparent;\n",
              "      border-left-color: var(--fill-color);\n",
              "      border-top-color: var(--fill-color);\n",
              "      border-right-color: var(--fill-color);\n",
              "    }\n",
              "    40% {\n",
              "      border-color: transparent;\n",
              "      border-right-color: var(--fill-color);\n",
              "      border-top-color: var(--fill-color);\n",
              "    }\n",
              "    60% {\n",
              "      border-color: transparent;\n",
              "      border-right-color: var(--fill-color);\n",
              "    }\n",
              "    80% {\n",
              "      border-color: transparent;\n",
              "      border-right-color: var(--fill-color);\n",
              "      border-bottom-color: var(--fill-color);\n",
              "    }\n",
              "    90% {\n",
              "      border-color: transparent;\n",
              "      border-bottom-color: var(--fill-color);\n",
              "    }\n",
              "  }\n",
              "</style>\n",
              "\n",
              "  <script>\n",
              "    async function quickchart(key) {\n",
              "      const quickchartButtonEl =\n",
              "        document.querySelector('#' + key + ' button');\n",
              "      quickchartButtonEl.disabled = true;  // To prevent multiple clicks.\n",
              "      quickchartButtonEl.classList.add('colab-df-spinner');\n",
              "      try {\n",
              "        const charts = await google.colab.kernel.invokeFunction(\n",
              "            'suggestCharts', [key], {});\n",
              "      } catch (error) {\n",
              "        console.error('Error during call to suggestCharts:', error);\n",
              "      }\n",
              "      quickchartButtonEl.classList.remove('colab-df-spinner');\n",
              "      quickchartButtonEl.classList.add('colab-df-quickchart-complete');\n",
              "    }\n",
              "    (() => {\n",
              "      let quickchartButtonEl =\n",
              "        document.querySelector('#df-fffc4d39-9b7f-45f5-8a42-a4a750bea1e5 button');\n",
              "      quickchartButtonEl.style.display =\n",
              "        google.colab.kernel.accessAllowed ? 'block' : 'none';\n",
              "    })();\n",
              "  </script>\n",
              "</div>\n",
              "    </div>\n",
              "  </div>\n"
            ],
            "application/vnd.google.colaboratory.intrinsic+json": {
              "type": "dataframe",
              "variable_name": "train_X_df",
              "summary": "{\n  \"name\": \"train_X_df\",\n  \"rows\": 20334,\n  \"fields\": [\n    {\n      \"column\": \"longitude\",\n      \"properties\": {\n        \"dtype\": \"number\",\n        \"std\": 0.2013015250064453,\n        \"min\": 0.0,\n        \"max\": 1.0,\n        \"num_unique_values\": 7260,\n        \"samples\": [\n          0.23233239399819436,\n          0.20775788328208014,\n          0.611195880701245\n        ],\n        \"semantic_type\": \"\",\n        \"description\": \"\"\n      }\n    },\n    {\n      \"column\": \"latitude\",\n      \"properties\": {\n        \"dtype\": \"number\",\n        \"std\": 0.21847919239184183,\n        \"min\": 0.0,\n        \"max\": 1.0,\n        \"num_unique_values\": 7155,\n        \"samples\": [\n          0.5180957424313806,\n          0.29145128946767607,\n          0.14005501506420856\n        ],\n        \"semantic_type\": \"\",\n        \"description\": \"\"\n      }\n    },\n    {\n      \"column\": \"housing_median_age\",\n      \"properties\": {\n        \"dtype\": \"number\",\n        \"std\": 0.2532352110078788,\n        \"min\": 0.0,\n        \"max\": 0.9999999999999999,\n        \"num_unique_values\": 4523,\n        \"samples\": [\n          0.3982383039911682,\n          0.42021119823007225,\n          0.4949558403552103\n        ],\n        \"semantic_type\": \"\",\n        \"description\": \"\"\n      }\n    },\n    {\n      \"column\": \"total_rooms\",\n      \"properties\": {\n        \"dtype\": \"number\",\n        \"std\": 0.05748401789407654,\n        \"min\": 0.0,\n        \"max\": 1.0,\n        \"num_unique_values\": 11817,\n        \"samples\": [\n          0.014002034854308142,\n          0.08855017094684073,\n          0.19493871095294582\n        ],\n        \"semantic_type\": \"\",\n        \"description\": \"\"\n      }\n    },\n    {\n      \"column\": \"total_bedrooms\",\n      \"properties\": {\n        \"dtype\": \"number\",\n        \"std\": 0.07522278712004173,\n        \"min\": 0.0,\n        \"max\": 1.0,\n        \"num_unique_values\": 8444,\n        \"samples\": [\n          0.29287020109689216,\n          0.4878300931763967,\n          0.10617154617981692\n        ],\n        \"semantic_type\": \"\",\n        \"description\": \"\"\n      }\n    },\n    {\n      \"column\": \"population\",\n      \"properties\": {\n        \"dtype\": \"number\",\n        \"std\": 0.030497342598897397,\n        \"min\": 0.0,\n        \"max\": 1.0,\n        \"num_unique_values\": 10139,\n        \"samples\": [\n          0.014182011827685755,\n          0.07197511141007315,\n          0.02580557190813485\n        ],\n        \"semantic_type\": \"\",\n        \"description\": \"\"\n      }\n    },\n    {\n      \"column\": \"households\",\n      \"properties\": {\n        \"dtype\": \"number\",\n        \"std\": 0.07275157054652495,\n        \"min\": 0.0,\n        \"max\": 1.0,\n        \"num_unique_values\": 8345,\n        \"samples\": [\n          0.07430216322856158,\n          0.04954029266941452,\n          0.134294136023532\n        ],\n        \"semantic_type\": \"\",\n        \"description\": \"\"\n      }\n    },\n    {\n      \"column\": \"median_income\",\n      \"properties\": {\n        \"dtype\": \"number\",\n        \"std\": 0.15234246840603446,\n        \"min\": 0.0,\n        \"max\": 1.0,\n        \"num_unique_values\": 16082,\n        \"samples\": [\n          0.5038689121529358,\n          0.08237127763754983,\n          0.18174921725217585\n        ],\n        \"semantic_type\": \"\",\n        \"description\": \"\"\n      }\n    }\n  ]\n}"
            }
          },
          "metadata": {},
          "execution_count": 32
        }
      ]
    },
    {
      "cell_type": "code",
      "source": [
        "train_X_df['median_income'].nunique()"
      ],
      "metadata": {
        "colab": {
          "base_uri": "https://localhost:8080/"
        },
        "id": "c0eLcqs81f6r",
        "outputId": "4f523d9d-ef76-426e-e149-96fdb2c8bf3b"
      },
      "execution_count": 33,
      "outputs": [
        {
          "output_type": "execute_result",
          "data": {
            "text/plain": [
              "16082"
            ]
          },
          "metadata": {},
          "execution_count": 33
        }
      ]
    },
    {
      "cell_type": "code",
      "source": [
        "train_X_df['longitude'].nunique()"
      ],
      "metadata": {
        "colab": {
          "base_uri": "https://localhost:8080/"
        },
        "id": "WsG-iDZi1tig",
        "outputId": "7b0c361c-492a-4f85-f9b3-10e5ec9a7f66"
      },
      "execution_count": 34,
      "outputs": [
        {
          "output_type": "execute_result",
          "data": {
            "text/plain": [
              "7260"
            ]
          },
          "metadata": {},
          "execution_count": 34
        }
      ]
    },
    {
      "cell_type": "code",
      "source": [
        "train_X_df['latitude'].nunique()"
      ],
      "metadata": {
        "colab": {
          "base_uri": "https://localhost:8080/"
        },
        "id": "vJwAT8Oh13Ww",
        "outputId": "42493d5b-3d20-4fb6-d7a8-c40841ebabf3"
      },
      "execution_count": 35,
      "outputs": [
        {
          "output_type": "execute_result",
          "data": {
            "text/plain": [
              "7155"
            ]
          },
          "metadata": {},
          "execution_count": 35
        }
      ]
    },
    {
      "cell_type": "markdown",
      "source": [
        "###Using the ICE(Individual Conditional Expectation plot)"
      ],
      "metadata": {
        "id": "vnunsxWnM9w4"
      }
    },
    {
      "cell_type": "code",
      "source": [
        "# Using the ICE(Individual Conditional Expectation plot)\n",
        "import warnings\n",
        "warnings.simplefilter(action='ignore', category=FutureWarning)\n",
        "!pip install pulp # for partial dependence plots!\n",
        "!pip install pycebox\n",
        "from pycebox.ice import ice,ice_plot"
      ],
      "metadata": {
        "colab": {
          "base_uri": "https://localhost:8080/"
        },
        "id": "3u6vVcOC2Ex_",
        "outputId": "ee04d2d9-a90f-45e4-cfa8-3cf6da701154"
      },
      "execution_count": 36,
      "outputs": [
        {
          "output_type": "stream",
          "name": "stdout",
          "text": [
            "Collecting pulp\n",
            "  Downloading PuLP-2.8.0-py3-none-any.whl (17.7 MB)\n",
            "\u001b[2K     \u001b[90m━━━━━━━━━━━━━━━━━━━━━━━━━━━━━━━━━━━━━━━━\u001b[0m \u001b[32m17.7/17.7 MB\u001b[0m \u001b[31m41.7 MB/s\u001b[0m eta \u001b[36m0:00:00\u001b[0m\n",
            "\u001b[?25hInstalling collected packages: pulp\n",
            "Successfully installed pulp-2.8.0\n",
            "Collecting pycebox\n",
            "  Downloading pycebox-0.0.1.tar.gz (4.5 kB)\n",
            "  Preparing metadata (setup.py) ... \u001b[?25l\u001b[?25hdone\n",
            "Requirement already satisfied: matplotlib in /usr/local/lib/python3.10/dist-packages (from pycebox) (3.7.1)\n",
            "Requirement already satisfied: numpy in /usr/local/lib/python3.10/dist-packages (from pycebox) (1.25.2)\n",
            "Requirement already satisfied: pandas in /usr/local/lib/python3.10/dist-packages (from pycebox) (2.0.3)\n",
            "Requirement already satisfied: six in /usr/local/lib/python3.10/dist-packages (from pycebox) (1.16.0)\n",
            "Requirement already satisfied: contourpy>=1.0.1 in /usr/local/lib/python3.10/dist-packages (from matplotlib->pycebox) (1.2.0)\n",
            "Requirement already satisfied: cycler>=0.10 in /usr/local/lib/python3.10/dist-packages (from matplotlib->pycebox) (0.12.1)\n",
            "Requirement already satisfied: fonttools>=4.22.0 in /usr/local/lib/python3.10/dist-packages (from matplotlib->pycebox) (4.50.0)\n",
            "Requirement already satisfied: kiwisolver>=1.0.1 in /usr/local/lib/python3.10/dist-packages (from matplotlib->pycebox) (1.4.5)\n",
            "Requirement already satisfied: packaging>=20.0 in /usr/local/lib/python3.10/dist-packages (from matplotlib->pycebox) (24.0)\n",
            "Requirement already satisfied: pillow>=6.2.0 in /usr/local/lib/python3.10/dist-packages (from matplotlib->pycebox) (9.4.0)\n",
            "Requirement already satisfied: pyparsing>=2.3.1 in /usr/local/lib/python3.10/dist-packages (from matplotlib->pycebox) (3.1.2)\n",
            "Requirement already satisfied: python-dateutil>=2.7 in /usr/local/lib/python3.10/dist-packages (from matplotlib->pycebox) (2.8.2)\n",
            "Requirement already satisfied: pytz>=2020.1 in /usr/local/lib/python3.10/dist-packages (from pandas->pycebox) (2023.4)\n",
            "Requirement already satisfied: tzdata>=2022.1 in /usr/local/lib/python3.10/dist-packages (from pandas->pycebox) (2024.1)\n",
            "Building wheels for collected packages: pycebox\n",
            "  Building wheel for pycebox (setup.py) ... \u001b[?25l\u001b[?25hdone\n",
            "  Created wheel for pycebox: filename=pycebox-0.0.1-py3-none-any.whl size=3624 sha256=3d0a7cff308fd7d8d174e1427f02398fb8ae49c148c5447240be64de7356ec3a\n",
            "  Stored in directory: /root/.cache/pip/wheels/af/57/4b/0d7bdd5b5ee35d225b01da15c62ed0ec0af10073f24a4a03ce\n",
            "Successfully built pycebox\n",
            "Installing collected packages: pycebox\n",
            "Successfully installed pycebox-0.0.1\n"
          ]
        }
      ]
    },
    {
      "cell_type": "markdown",
      "source": [
        "## Latitude"
      ],
      "metadata": {
        "id": "y9EPol213lC5"
      }
    },
    {
      "cell_type": "code",
      "source": [
        "tmpdf_latitude= ice(data=train_X_df,  # ICE needs a DataFrame\n",
        "            column='latitude',        # The column name for which to generate ICE plots\n",
        "            predict=clf.predict,       # The prediction function from the model\n",
        "            num_grid_points=100)       # Number of grid points for ICE plots\n",
        "\n",
        "# Displaying the shape of the resulting DataFrame\n",
        "print(np.shape(tmpdf_latitude))"
      ],
      "metadata": {
        "colab": {
          "base_uri": "https://localhost:8080/"
        },
        "id": "bRfqWMPC27VJ",
        "outputId": "0a29a46f-defa-4d6b-ca10-35d6423cb52f"
      },
      "execution_count": 37,
      "outputs": [
        {
          "output_type": "stream",
          "name": "stdout",
          "text": [
            "(100, 20334)\n"
          ]
        }
      ]
    },
    {
      "cell_type": "markdown",
      "source": [
        "### Plotting the ICE plot for latitude with additional PDP overlay"
      ],
      "metadata": {
        "id": "gNwCZ6g4NEjC"
      }
    },
    {
      "cell_type": "code",
      "source": [
        "# Plotting the ICE plot for latitude with additional PDP overlay\n",
        "ice_plot(tmpdf_latitude, c='dimgray', linewidth=0.3,\n",
        "         plot_pdp=True,\n",
        "         pdp_kwargs={'linewidth': 5, 'color': 'red'})\n",
        "\n",
        "# Adding title and labels to the plot\n",
        "plt.title('PDP: latitude')\n",
        "plt.ylabel('Predicted median_house_value')\n",
        "plt.xlabel('latitude')\n",
        "\n",
        "# Displaying the plot\n",
        "plt.show()"
      ],
      "metadata": {
        "colab": {
          "base_uri": "https://localhost:8080/",
          "height": 472
        },
        "id": "Kv277vyi3yeZ",
        "outputId": "64a36bee-2eed-4434-f611-d5d592a4ea81"
      },
      "execution_count": 38,
      "outputs": [
        {
          "output_type": "display_data",
          "data": {
            "text/plain": [
              "<Figure size 640x480 with 1 Axes>"
            ],
            "image/png": "[encoded data removed]"
          },
          "metadata": {}
        }
      ]
    },
    {
      "cell_type": "markdown",
      "source": [
        "## Longitude"
      ],
      "metadata": {
        "id": "Nh_0XleN4JYL"
      }
    },
    {
      "cell_type": "code",
      "source": [
        "tmpdf_longitude = ice(data=train_X_df,  # ICE needs a DataFrame\n",
        "            column='longitude',        # The column name for which to generate ICE plots\n",
        "            predict=clf.predict,       # The prediction function from the model\n",
        "            num_grid_points=100)       # Number of grid points for ICE plots\n",
        "\n",
        "# Displaying the shape of the resulting DataFrame\n",
        "print(np.shape(tmpdf_longitude))"
      ],
      "metadata": {
        "colab": {
          "base_uri": "https://localhost:8080/"
        },
        "id": "y95MRCsA4Ba6",
        "outputId": "fa9d10a0-55bb-4b94-e972-2c9f6be20370"
      },
      "execution_count": 43,
      "outputs": [
        {
          "output_type": "stream",
          "name": "stdout",
          "text": [
            "(100, 20334)\n"
          ]
        }
      ]
    },
    {
      "cell_type": "markdown",
      "source": [
        "### Plotting the ICE plot for longitude with additional PDP overlay"
      ],
      "metadata": {
        "id": "RPZ0nBfxNjsn"
      }
    },
    {
      "cell_type": "code",
      "source": [
        "# Plotting the ICE plot for longitude with additional PDP overlay\n",
        "ice_plot(tmpdf_longitude, c='dimgray', linewidth=0.3,\n",
        "         plot_pdp=True,\n",
        "         pdp_kwargs={'linewidth': 5, 'color': 'red'})\n",
        "\n",
        "# Adding title and labels to the plot\n",
        "plt.title('PDP: longitude')\n",
        "plt.ylabel('Predicted median_house_value')\n",
        "plt.xlabel('longitude')\n",
        "\n",
        "# Displaying the plot\n",
        "plt.show()"
      ],
      "metadata": {
        "colab": {
          "base_uri": "https://localhost:8080/",
          "height": 472
        },
        "id": "BAtiscv04yTw",
        "outputId": "d5c9a665-2c13-4c45-db7d-7f69b9654538"
      },
      "execution_count": 40,
      "outputs": [
        {
          "output_type": "display_data",
          "data": {
            "text/plain": [
              "<Figure size 640x480 with 1 Axes>"
            ],
            "image/png": "[encoded data removed]"
          },
          "metadata": {}
        }
      ]
    },
    {
      "cell_type": "markdown",
      "source": [
        "## median_income"
      ],
      "metadata": {
        "id": "n1ADAGJ25ALH"
      }
    },
    {
      "cell_type": "code",
      "source": [
        "tmpdf_median_income = ice(data=train_X_df,  # ICE needs a DataFrame\n",
        "            column='median_income',        # The column name for which to generate ICE plots\n",
        "            predict=clf.predict,       # The prediction function from the model\n",
        "            num_grid_points=100)       # Number of grid points for ICE plots\n",
        "\n",
        "# Displaying the shape of the resulting DataFrame\n",
        "print(np.shape(tmpdf_median_income))"
      ],
      "metadata": {
        "colab": {
          "base_uri": "https://localhost:8080/"
        },
        "id": "Wfi9KAEW5DDJ",
        "outputId": "8ea8d5bd-6172-4848-f4e1-ff6b756ca275"
      },
      "execution_count": 41,
      "outputs": [
        {
          "output_type": "stream",
          "name": "stdout",
          "text": [
            "(100, 20334)\n"
          ]
        }
      ]
    },
    {
      "cell_type": "markdown",
      "source": [
        "### Plotting the ICE plot for median_income with additional PDP overlay"
      ],
      "metadata": {
        "id": "LTBwjlckNpwc"
      }
    },
    {
      "cell_type": "code",
      "source": [
        "# Plotting the ICE plot for median_income with additional PDP overlay\n",
        "ice_plot(tmpdf_median_income, c='dimgray', linewidth=0.3,\n",
        "         plot_pdp=True,\n",
        "         pdp_kwargs={'linewidth': 5, 'color': 'red'})\n",
        "\n",
        "# Adding title and labels to the plot\n",
        "plt.title('PDP: median_income')\n",
        "plt.ylabel('Predicted median_house_value')\n",
        "plt.xlabel('median_income')\n",
        "\n",
        "# Displaying the plot\n",
        "plt.show()"
      ],
      "metadata": {
        "colab": {
          "base_uri": "https://localhost:8080/",
          "height": 472
        },
        "id": "wESb2eNs54ZE",
        "outputId": "6eef9b98-907d-45fe-ec52-bfbdbd0fee2b"
      },
      "execution_count": 42,
      "outputs": [
        {
          "output_type": "display_data",
          "data": {
            "text/plain": [
              "<Figure size 640x480 with 1 Axes>"
            ],
            "image/png": "[encoded data removed]"
          },
          "metadata": {}
        }
      ]
    },
    {
      "cell_type": "markdown",
      "source": [
        "# Conclusions"
      ],
      "metadata": {
        "id": "8l5c2RQvAygR"
      }
    },
    {
      "cell_type": "markdown",
      "source": [
        "###Balanced Sampling Output:\n",
        "\n"
      ],
      "metadata": {
        "id": "dkwjWNPKyh0K"
      }
    },
    {
      "cell_type": "markdown",
      "source": [
        "The sampling output after applying SMOTE reveals a well-balanced distribution of classes, with 10,167 instances for both class 0 and class 1. This balanced distribution indicates successful mitigation of class imbalance, which is crucial for improving model performance, particularly in scenarios with skewed class distributions."
      ],
      "metadata": {
        "id": "i3lMVsSgylPi"
      }
    },
    {
      "cell_type": "markdown",
      "source": [
        "###Exceptional Training Set Performance:\n",
        "\n"
      ],
      "metadata": {
        "id": "vAkq90C5ypne"
      }
    },
    {
      "cell_type": "markdown",
      "source": [
        "Model metrics on the training set demonstrate exceptional performance, with perfect precision, recall, and F1-score for both classes (0 and 1). The accuracy of 1.00 indicates that the model achieved perfect predictions on the training data, suggesting a potential risk of overfitting."
      ],
      "metadata": {
        "id": "EVL0nx64yuKB"
      }
    },
    {
      "cell_type": "markdown",
      "source": [
        "###Discrepancies in Test Set Performance:\n",
        "\n"
      ],
      "metadata": {
        "id": "Z05_jQaVyyJT"
      }
    },
    {
      "cell_type": "markdown",
      "source": [
        "While the model maintains relatively high precision on the test set, there are notable discrepancies in recall, especially for class 1. The lower recall for class 1 (0.84) compared to class 0 (0.93) suggests that the model struggles more in correctly identifying instances of class 1, which could be indicative of class imbalance issues or overfitting."
      ],
      "metadata": {
        "id": "T0aV61wEy3XW"
      }
    },
    {
      "cell_type": "markdown",
      "source": [
        "###Spatial and Socioeconomic Factors in Features:\n",
        "\n"
      ],
      "metadata": {
        "id": "UvWMZj1cy7c7"
      }
    },
    {
      "cell_type": "markdown",
      "source": [
        "The top 3 features identified (latitude,longitude and median_income,) suggest the importance of spatial and socioeconomic factors in predicting median_house_income. These features likely capture regional disparities, with longitude and latitude representing geographic location and median_income reflecting the socioeconomic status of the area.\n"
      ],
      "metadata": {
        "id": "I5GdNhGay_5A"
      }
    },
    {
      "cell_type": "markdown",
      "source": [
        "###Insights from Box Plots and PDP Plots:\n",
        "\n"
      ],
      "metadata": {
        "id": "lXt2Q-JZzAv7"
      }
    },
    {
      "cell_type": "markdown",
      "source": [
        "Peaks in the PDP plot can indicate regions where median_house_income is significantly higher or lower, suggesting areas with higher or lower purchasing power or economic development."
      ],
      "metadata": {
        "id": "Dn9HaIhYzEW-"
      }
    },
    {
      "cell_type": "markdown",
      "source": [
        "Fluctuations or plateaus in the plot may reveal income thresholds where housing affordability becomes a significant factor, influencing median_house_income dynamics."
      ],
      "metadata": {
        "id": "pvtq9nftzOIf"
      }
    },
    {
      "cell_type": "markdown",
      "source": [
        "Changes in slope or curvature in the plot could indicate transitions between different climatic zones or economic regions, influencing housing market dynamics accordingly."
      ],
      "metadata": {
        "id": "bMcmEN3CzPDb"
      }
    }
  ]
}